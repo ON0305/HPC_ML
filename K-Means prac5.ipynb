{
 "cells": [
  {
   "cell_type": "code",
   "execution_count": 1,
   "id": "73267719",
   "metadata": {},
   "outputs": [],
   "source": [
    "import numpy as np\n",
    "import matplotlib.pyplot as plt\n",
    "from sklearn.cluster import KMeans\n",
    "     "
   ]
  },
  {
   "cell_type": "code",
   "execution_count": 2,
   "id": "e3ccc6ad",
   "metadata": {},
   "outputs": [],
   "source": [
    "# Define the data points\n",
    "data_points = np.array([[0.1, 0.6],\n",
    "                       [0.15, 0.71],\n",
    "                       [0.08, 0.9],\n",
    "                       [0.16, 0.85],\n",
    "                       [0.2, 0.3],\n",
    "                       [0.25, 0.5],\n",
    "                       [0.24, 0.1],\n",
    "                       [0.3, 0.2]])\n",
    "     "
   ]
  },
  {
   "cell_type": "code",
   "execution_count": 3,
   "id": "085665a7",
   "metadata": {},
   "outputs": [],
   "source": [
    "# Define the initial centroids\n",
    "initial_centroids = np.array([[0.1, 0.6],\n",
    "                              [0.3, 0.2]])"
   ]
  },
  {
   "cell_type": "code",
   "execution_count": 4,
   "id": "5067ef00",
   "metadata": {},
   "outputs": [
    {
     "data": {
      "text/plain": [
       "KMeans(init=array([[0.1, 0.6],\n",
       "       [0.3, 0.2]]), n_clusters=2, n_init=1)"
      ]
     },
     "execution_count": 4,
     "metadata": {},
     "output_type": "execute_result"
    }
   ],
   "source": [
    "# Perform k-means clustering\n",
    "kmeans = KMeans(n_clusters=2, init=initial_centroids, n_init=1)\n",
    "kmeans.fit(data_points)"
   ]
  },
  {
   "cell_type": "code",
   "execution_count": 5,
   "id": "aa32c2d8",
   "metadata": {},
   "outputs": [],
   "source": [
    "# Retrieve the cluster labels for each data point\n",
    "cluster_labels = kmeans.labels_\n",
    "\n",
    "# Retrieve the updated centroids\n",
    "updated_centroids = kmeans.cluster_centers_\n",
    "     "
   ]
  },
  {
   "cell_type": "code",
   "execution_count": 6,
   "id": "5c1ad12f",
   "metadata": {},
   "outputs": [
    {
     "name": "stdout",
     "output_type": "stream",
     "text": [
      "1] P6 belongs to Cluster C1\n"
     ]
    }
   ],
   "source": [
    "# Answering the questions:\n",
    "\n",
    "# 1] Which cluster does P6 belong to?\n",
    "point_p6 = np.array([0.25, 0.5])\n",
    "cluster_p6 = kmeans.predict([point_p6])[0]\n",
    "cluster_p6 += 1  # Adding 1 to match the cluster numbering in the question\n",
    "print(\"1] P6 belongs to Cluster C\" + str(cluster_p6))"
   ]
  },
  {
   "cell_type": "code",
   "execution_count": 7,
   "id": "408f73a0",
   "metadata": {},
   "outputs": [
    {
     "name": "stdout",
     "output_type": "stream",
     "text": [
      "2] The population of cluster around m2 is 3\n"
     ]
    }
   ],
   "source": [
    "# 2] What is the population of cluster around m2?\n",
    "cluster_m2 = 2  # Cluster C2\n",
    "population_m2 = np.sum(cluster_labels == (cluster_m2 - 1))\n",
    "print(\"2] The population of cluster around m2 is\", population_m2)"
   ]
  },
  {
   "cell_type": "code",
   "execution_count": 8,
   "id": "4012cd6a",
   "metadata": {},
   "outputs": [
    {
     "name": "stdout",
     "output_type": "stream",
     "text": [
      "3] The updated value of m1 is [0.148 0.712]\n",
      "   The updated value of m2 is [0.24666667 0.2       ]\n"
     ]
    }
   ],
   "source": [
    "# 3] What is the updated value of m1 and m2?\n",
    "updated_m1 = updated_centroids[0]\n",
    "updated_m2 = updated_centroids[1]\n",
    "print(\"3] The updated value of m1 is\", updated_m1)\n",
    "print(\"   The updated value of m2 is\", updated_m2)\n",
    "     "
   ]
  },
  {
   "cell_type": "code",
   "execution_count": 9,
   "id": "ae3dd209",
   "metadata": {},
   "outputs": [
    {
     "data": {
      "image/png": "[encoded data removed]",
      "text/plain": [
       "<Figure size 432x288 with 1 Axes>"
      ]
     },
     "metadata": {
      "needs_background": "light"
     },
     "output_type": "display_data"
    }
   ],
   "source": [
    "\n",
    "# Scatter plot of the data points\n",
    "plt.scatter(data_points[:, 0], data_points[:, 1], c=cluster_labels, cmap='viridis', label='Data Points')\n",
    "\n",
    "# Scatter plot of the updated centroids\n",
    "plt.scatter(updated_centroids[:, 0], updated_centroids[:, 1], color='red', marker='X', label='Updated Centroids')\n",
    "\n",
    "# Plotting the annotation for P6\n",
    "plt.annotate('P6', (0.25, 0.5), textcoords=\"offset points\", xytext=(0, 10), ha='center')\n",
    "\n",
    "plt.legend()\n",
    "plt.xlabel('X')\n",
    "plt.ylabel('Y')\n",
    "plt.title('K-Means Clustering')\n",
    "plt.show()\n"
   ]
  },
  {
   "cell_type": "code",
   "execution_count": null,
   "id": "d15a93d3",
   "metadata": {},
   "outputs": [],
   "source": []
  }
 ],
 "metadata": {
  "kernelspec": {
   "display_name": "Python 3 (ipykernel)",
   "language": "python",
   "name": "python3"
  },
  "language_info": {
   "codemirror_mode": {
    "name": "ipython",
    "version": 3
   },
   "file_extension": ".py",
   "mimetype": "text/x-python",
   "name": "python",
   "nbconvert_exporter": "python",
   "pygments_lexer": "ipython3",
   "version": "3.9.7"
  }
 },
 "nbformat": 4,
 "nbformat_minor": 5
}
