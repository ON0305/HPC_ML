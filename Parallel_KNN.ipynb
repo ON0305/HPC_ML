{
  "nbformat": 4,
  "nbformat_minor": 0,
  "metadata": {
    "colab": {
      "provenance": [],
      "authorship_tag": "ABX9TyNS3CGSbnkM+Hx/1r3C/CVl",
      "include_colab_link": true
    },
    "kernelspec": {
      "name": "python3",
      "display_name": "Python 3"
    },
    "language_info": {
      "name": "python"
    }
  },
  "cells": [
    {
      "cell_type": "markdown",
      "metadata": {
        "id": "view-in-github",
        "colab_type": "text"
      },
      "source": [
        "<a href=\"https://colab.research.google.com/github/GauriRB/ML_HPC_Lab/blob/main/Parallel_KNN.ipynb\" target=\"_parent\"><img src=\"https://colab.research.google.com/assets/colab-badge.svg\" alt=\"Open In Colab\"/></a>"
      ]
    },
    {
      "cell_type": "code",
      "execution_count": 2,
      "metadata": {
        "id": "rIJBmYJlRJcC"
      },
      "outputs": [],
      "source": [
        "#STEP-1: Import Libraries\n",
        "# Code to read csv file into colaboratory:\n",
        "!pip install -U -q PyDrive\n",
        "from pydrive.auth import GoogleAuth\n",
        "from pydrive.drive import GoogleDrive\n",
        "from google.colab import auth\n",
        "from oauth2client.client import GoogleCredentials"
      ]
    },
    {
      "cell_type": "code",
      "source": [
        "#STEP-2: Autheticate E-Mail ID\n",
        "auth.authenticate_user()\n",
        "gauth = GoogleAuth()\n",
        "gauth.credentials = GoogleCredentials.get_application_default()\n",
        "drive = GoogleDrive(gauth)\n"
      ],
      "metadata": {
        "id": "CPSwRmnPRKq0"
      },
      "execution_count": 3,
      "outputs": []
    },
    {
      "cell_type": "code",
      "source": [
        "downloaded = drive.CreateFile({'id':'1oikTU46hEkvGW_DeFyWos5_6q3cX6h7B'}) # replace the id with id of file you want to access\n",
        "downloaded.GetContentFile('knndata.csv')"
      ],
      "metadata": {
        "id": "ArCP6YELR8_l"
      },
      "execution_count": 4,
      "outputs": []
    },
    {
      "cell_type": "code",
      "source": [
        "#Importing Libraries\n",
        "\n",
        "import numpy as np\n",
        "import pandas as pd\n",
        "\n",
        "# To split dataset into its attributes and labels.\n",
        "\n",
        "dataset=pd.read_csv(\"knndata.csv\")\n",
        "X=dataset.iloc[:,:-1].values\n",
        "print(X)\n",
        "Y=dataset.iloc[:,2].values\n",
        "print(Y)\n",
        "\n",
        "# Training of KNN Classification Model using trained data\n",
        "\n",
        "from sklearn.neighbors import KNeighborsClassifier\n",
        "classifier = KNeighborsClassifier(n_neighbors=3)\n",
        "classifier.fit(X,Y)\n",
        "\n",
        "# Testing  KNN Classification Model using unseen test data\n",
        "\n",
        "X_test=np.array([6,6])\n",
        "y_pred = classifier.predict([X_test])\n",
        "print ('The predicition of classifier is :', y_pred)\n",
        "classifier = KNeighborsClassifier(n_neighbors=3,weights='distance')\n",
        "classifier.fit(X,Y)\n",
        "# predict the class for points(6,6)\n",
        "X_test=np.array([6,6])\n",
        "y_pred = classifier.predict([X_test])\n",
        "print ('The predicition of classifier is :', y_pred)\n"
      ],
      "metadata": {
        "colab": {
          "base_uri": "https://localhost:8080/"
        },
        "id": "zvkHKvEfSGgo",
        "outputId": "6f42d856-f6d0-4ceb-fe98-560f8a6311eb"
      },
      "execution_count": 5,
      "outputs": [
        {
          "output_type": "stream",
          "name": "stdout",
          "text": [
            "[[2 4]\n",
            " [4 6]\n",
            " [4 4]\n",
            " [4 2]\n",
            " [6 4]\n",
            " [6 2]]\n",
            "['negative' 'negative' 'postive' 'negative' 'negative' 'positive']\n",
            "The predicition of classifier is : ['negative']\n",
            "The predicition of classifier is : ['negative']\n"
          ]
        }
      ]
    },
    {
      "cell_type": "code",
      "source": [],
      "metadata": {
        "id": "JbUqvLcMSKKA"
      },
      "execution_count": null,
      "outputs": []
    }
  ]
}
